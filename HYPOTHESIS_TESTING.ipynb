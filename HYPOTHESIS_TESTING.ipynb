{
 "cells": [
  {
   "cell_type": "code",
   "execution_count": 38,
   "metadata": {
    "colab": {
     "base_uri": "https://localhost:8080/"
    },
    "id": "CuYMFOHEVi1U",
    "outputId": "72767f3c-d89a-4a89-9b5b-839051daff53"
   },
   "outputs": [
    {
     "name": "stdout",
     "output_type": "stream",
     "text": [
      "Chi-square statistic: 5.638227513227513\n",
      "P-value: 0.22784371130697179\n",
      "There is no significant association between device type and customer satisfaction.\n"
     ]
    }
   ],
   "source": [
    "import pandas as pd\n",
    "from scipy import stats\n",
    "\n",
    "# Create a DataFrame from the provided data\n",
    "data = {\n",
    "    'Smart Thermostat': [50, 80, 60, 30, 20],\n",
    "    'Smart Light': [70, 100, 90, 50, 50]\n",
    "}\n",
    "index = ['Very Satisfied', 'Satisfied', 'Neutral', 'Unsatisfied', 'Very Unsatisfied']\n",
    "df = pd.DataFrame(data, index=index)\n",
    "\n",
    "# Perform chi-square test\n",
    "chi2, p_value, dof, expected = stats.chi2_contingency(df)\n",
    "\n",
    "print(f\"Chi-square statistic: {chi2}\")\n",
    "print(f\"P-value: {p_value}\")\n",
    "\n",
    "# Interpretation\n",
    "alpha = 0.05  # Significance level\n",
    "if p_value < alpha:\n",
    "    print(\"There is a significant association between device type and customer satisfaction.\")\n",
    "else:\n",
    "    print(\"There is no significant association between device type and customer satisfaction.\")\n"
   ]
  },
  {
   "cell_type": "code",
   "execution_count": 39,
   "metadata": {
    "id": "OkODyeiaV_13"
   },
   "outputs": [],
   "source": [
    "#1. State the Hypotheses:\n",
    "\n",
    "# Null Hypothesis (H0): There is no association between device type and customer satisfaction.\n",
    "# Alternative Hypothesis (H1): There is a significant association between device type and customer satisfaction.\n"
   ]
  },
  {
   "cell_type": "code",
   "execution_count": 40,
   "metadata": {
    "colab": {
     "base_uri": "https://localhost:8080/"
    },
    "id": "rXzWDxwlaYkV",
    "outputId": "cd9a1eec-be43-4852-ac80-a474151312d7"
   },
   "outputs": [
    {
     "name": "stdout",
     "output_type": "stream",
     "text": [
      "Chi-square statistic: 0.0\n"
     ]
    }
   ],
   "source": [
    "#2. Compute the Chi-Square Statistic:\n",
    "\n",
    "import pandas as pd\n",
    "from scipy import stats\n",
    "\n",
    "# Sample data (replace with your actual data)\n",
    "data = {\n",
    "    'Smart Thermostat': [50, 80, 60, 30, 20],\n",
    "    'Smart Light': [70, 100, 90, 50, 50]\n",
    "}\n",
    "index = ['Very Satisfied', 'Satisfied', 'Neutral', 'Unsatisfied', 'Very Unsatisfied']\n",
    "df = pd.DataFrame(data, index=index)\n",
    "\n",
    "# Create lists for the device type and satisfaction level\n",
    "device_type = ['Smart Thermostat'] * len(data['Smart Thermostat']) + ['Smart Light'] * len(data['Smart Light'])\n",
    "satisfaction = index * 2 # Repeat the index twice, once for each device type\n",
    "\n",
    "# Create a new DataFrame for the contingency table\n",
    "df_contingency = pd.DataFrame({'device_type': device_type, 'satisfaction': satisfaction})\n",
    "\n",
    "# Create a contingency table\n",
    "contingency_table = pd.crosstab(df_contingency['satisfaction'], df_contingency['device_type'])\n",
    "\n",
    "# Perform chi-square test\n",
    "chi2, p_value, dof, expected = stats.chi2_contingency(contingency_table)\n",
    "\n",
    "print(f\"Chi-square statistic: {chi2}\")"
   ]
  },
  {
   "cell_type": "code",
   "execution_count": 41,
   "metadata": {
    "colab": {
     "base_uri": "https://localhost:8080/"
    },
    "id": "B5oPh3vJWVKD",
    "outputId": "fd46513d-c803-40b4-87c0-cd0f912f14e1"
   },
   "outputs": [
    {
     "name": "stdout",
     "output_type": "stream",
     "text": [
      "Critical Value: 9.487729036781154\n"
     ]
    }
   ],
   "source": [
    "#3. Determine the Critical Value:\n",
    "# Using the significance level (alpha) of 0.05 and the degrees of freedom (which is the number of categories minus 1)\n",
    "\n",
    "from scipy.stats import chi2\n",
    "\n",
    "alpha = 0.05\n",
    "dof = contingency_table.shape[0] - 1  # Degrees of freedom\n",
    "\n",
    "critical_value = chi2.ppf(1 - alpha, dof)\n",
    "print(f\"Critical Value: {critical_value}\")\n"
   ]
  },
  {
   "cell_type": "code",
   "execution_count": 42,
   "metadata": {
    "colab": {
     "base_uri": "https://localhost:8080/"
    },
    "id": "34Eols5vWkkP",
    "outputId": "05139b06-188f-44af-ee9b-5578aabb2c13"
   },
   "outputs": [
    {
     "name": "stdout",
     "output_type": "stream",
     "text": [
      "Fail to reject the null hypothesis.\n",
      "There is no significant association between device type and customer satisfaction.\n"
     ]
    }
   ],
   "source": [
    "# Compare the Chi-Square statistic with the critical value to decide whether to reject the null hypothesis.\n",
    "\n",
    "# Calculate the chi-squared statistic using the contingency table\n",
    "chi2_statistic, _, _, _ = stats.chi2_contingency(contingency_table)\n",
    "\n",
    "if chi2_statistic > critical_value:\n",
    "    print(\"Reject the null hypothesis.\")\n",
    "    print(\"There is a significant association between device type and customer satisfaction.\")\n",
    "else:\n",
    "    print(\"Fail to reject the null hypothesis.\")\n",
    "    print(\"There is no significant association between device type and customer satisfaction.\")"
   ]
  },
  {
   "cell_type": "code",
   "execution_count": 43,
   "metadata": {
    "colab": {
     "base_uri": "https://localhost:8080/"
    },
    "id": "DMymYPa6XFLa",
    "outputId": "2e59a464-114a-454c-96b0-450b97700a88"
   },
   "outputs": [
    {
     "name": "stdout",
     "output_type": "stream",
     "text": [
      "Contingency Table:\n",
      " Satisfaction  High  Low\n",
      "Device                 \n",
      "Light            2    2\n",
      "Thermostat       2    2\n",
      "\n",
      "Chi-square statistic: 0.0\n",
      "P-value: 1.0\n",
      "Degrees of freedom: 1\n",
      "Expected frequencies:\n",
      "[[2. 2.]\n",
      " [2. 2.]]\n",
      "\n",
      "There is no significant association between device type and customer satisfaction.\n",
      "\n",
      "Critical Value: 3.841458820694124\n",
      "\n",
      "Fail to reject the null hypothesis.\n",
      "There is no significant association between device type and customer satisfaction.\n"
     ]
    }
   ],
   "source": [
    "#Include all calculations, the Chi-Square statistic, the critical value, and your conclusion.\n",
    "\n",
    "import pandas as pd\n",
    "from scipy import stats\n",
    "from scipy.stats import chi2\n",
    "\n",
    "# Sample data (replace with your actual data)\n",
    "data = {\n",
    "    'Device': ['Thermostat', 'Thermostat', 'Light', 'Light', 'Thermostat', 'Light', 'Thermostat', 'Light'],\n",
    "    'Satisfaction': ['High', 'Low', 'High', 'Low', 'High', 'Low', 'Low', 'High']\n",
    "}\n",
    "df = pd.DataFrame(data)\n",
    "\n",
    "# Create a contingency table\n",
    "contingency_table = pd.crosstab(df['Device'], df['Satisfaction'])\n",
    "print(\"Contingency Table:\\n\", contingency_table)\n",
    "\n",
    "# Perform chi-square test\n",
    "chi2_statistic, p_value, dof, expected = stats.chi2_contingency(contingency_table)\n",
    "\n",
    "print(f\"\\nChi-square statistic: {chi2_statistic}\")\n",
    "print(f\"P-value: {p_value}\")\n",
    "print(f\"Degrees of freedom: {dof}\")\n",
    "print(f\"Expected frequencies:\\n{expected}\")\n",
    "\n",
    "# Interpretation\n",
    "alpha = 0.05  # Significance level\n",
    "if p_value < alpha:\n",
    "    print(\"\\nThere is a significant association between device type and customer satisfaction.\")\n",
    "else:\n",
    "    print(\"\\nThere is no significant association between device type and customer satisfaction.\")\n",
    "\n",
    "# Calculate the critical value\n",
    "alpha = 0.05\n",
    "dof = contingency_table.shape[0] - 1  # Degrees of freedom\n",
    "critical_value = chi2.ppf(1 - alpha, dof)\n",
    "print(f\"\\nCritical Value: {critical_value}\")\n",
    "\n",
    "# Compare chi-square statistic with critical value\n",
    "if chi2_statistic > critical_value:\n",
    "    print(\"\\nReject the null hypothesis.\")\n",
    "    print(\"There is a significant association between device type and customer satisfaction.\")\n",
    "else:\n",
    "    print(\"\\nFail to reject the null hypothesis.\")\n",
    "    print(\"There is no significant association between device type and customer satisfaction.\")\n"
   ]
  },
  {
   "cell_type": "code",
   "execution_count": 44,
   "metadata": {
    "colab": {
     "base_uri": "https://localhost:8080/"
    },
    "id": "xAcbiTWR6b7e",
    "outputId": "de06371d-1634-4c3b-8140-cf96571969aa"
   },
   "outputs": [
    {
     "name": "stdout",
     "output_type": "stream",
     "text": [
      "                            OLS Regression Results                            \n",
      "==============================================================================\n",
      "Dep. Variable:          OperatingCost   R-squared:                       1.000\n",
      "Model:                            OLS   Adj. R-squared:                  1.000\n",
      "Method:                 Least Squares   F-statistic:                 3.385e+32\n",
      "Date:                Tue, 17 Sep 2024   Prob (F-statistic):           9.00e-81\n",
      "Time:                        18:18:40   Log-Likelihood:                 198.24\n",
      "No. Observations:                   7   AIC:                            -392.5\n",
      "Df Residuals:                       5   BIC:                            -392.6\n",
      "Df Model:                           1                                         \n",
      "Covariance Type:            nonrobust                                         \n",
      "=================================================================================\n",
      "                    coef    std err          t      P>|t|      [0.025      0.975]\n",
      "---------------------------------------------------------------------------------\n",
      "Intercept       500.0000   1.46e-13   3.42e+15      0.000     500.000     500.000\n",
      "UnitsProduced    10.0000   5.44e-16   1.84e+16      0.000      10.000      10.000\n",
      "==============================================================================\n",
      "Omnibus:                          nan   Durbin-Watson:                   0.500\n",
      "Prob(Omnibus):                    nan   Jarque-Bera (JB):                1.403\n",
      "Skew:                           0.949   Prob(JB):                        0.496\n",
      "Kurtosis:                       1.900   Cond. No.                         725.\n",
      "==============================================================================\n",
      "\n",
      "Notes:\n",
      "[1] Standard Errors assume that the covariance matrix of the errors is correctly specified.\n",
      "The cost model may no longer be accurate.\n"
     ]
    },
    {
     "name": "stderr",
     "output_type": "stream",
     "text": [
      "C:\\Users\\NANDAKISHORE BOINI\\anaconda3\\Lib\\site-packages\\statsmodels\\stats\\stattools.py:74: ValueWarning: omni_normtest is not valid with less than 8 observations; 7 samples were given.\n",
      "  warn(\"omni_normtest is not valid with less than 8 observations; %i \"\n"
     ]
    }
   ],
   "source": [
    "\n",
    "#Bombay hospitality Ltd. operates a franchise model for producing exotic Norwegian dinners throughout New England.The operating cost for a franchise in a week (W) is given by the equation W = $1,000 + $5X, where X represents the number of units produced in a week.Recent feedback from restaurant owners suggests that this cost model may no longer be accurate,as their observed weekly operating costs\n",
    "\n",
    "import numpy as np\n",
    "import pandas as pd\n",
    "import statsmodels.formula.api as smf\n",
    "\n",
    "# Sample data (replace with your actual data)\n",
    "data = {\n",
    "    'UnitsProduced': [100, 150, 200, 250, 300, 350, 400],\n",
    "    'OperatingCost': [1500, 2000, 2500, 3000, 3500, 4000, 4500]\n",
    "}\n",
    "df = pd.DataFrame(data)\n",
    "\n",
    "# Define the model\n",
    "model = smf.ols('OperatingCost ~ UnitsProduced', data=df)\n",
    "\n",
    "# Fit the model\n",
    "results = model.fit()\n",
    "\n",
    "# Print the summary of the model\n",
    "print(results.summary())\n",
    "\n",
    "# Check if the coefficient for UnitsProduced is significantly different from 5\n",
    "if results.pvalues['UnitsProduced'] < 0.05 and results.params['UnitsProduced'] != 5:\n",
    "    print(\"The cost model may no longer be accurate.\")\n",
    "else:\n",
    "    print(\"The cost model appears to be accurate.\")\n",
    "\n"
   ]
  },
  {
   "cell_type": "code",
   "execution_count": 45,
   "metadata": {
    "colab": {
     "base_uri": "https://localhost:8080/"
    },
    "id": "GiYYvrTU7dmI",
    "outputId": "1fd0e73b-868c-4d75-a27b-b21bb01a4831"
   },
   "outputs": [
    {
     "name": "stdout",
     "output_type": "stream",
     "text": [
      "T-statistic: -190.0\n",
      "P-value: 0.0\n",
      "The sample mean cost is significantly different from the expected cost based on the theoretical model.\n"
     ]
    }
   ],
   "source": [
    "\n",
    "import numpy as np\n",
    "from scipy.stats import t\n",
    "\n",
    "# Given data\n",
    "theoretical_cost_intercept = 1000\n",
    "theoretical_cost_slope = 5\n",
    "sample_mean_cost = 3050\n",
    "sample_size = 25\n",
    "population_mean_units = 600\n",
    "population_std_units = 25\n",
    "\n",
    "# Calculate the expected cost based on the theoretical model\n",
    "expected_cost = theoretical_cost_intercept + theoretical_cost_slope * population_mean_units\n",
    "\n",
    "# Calculate the standard error of the mean\n",
    "standard_error = population_std_units / np.sqrt(sample_size)\n",
    "\n",
    "# Calculate the t-statistic\n",
    "t_statistic = (sample_mean_cost - expected_cost) / standard_error\n",
    "\n",
    "# Calculate the degrees of freedom\n",
    "degrees_of_freedom = sample_size - 1\n",
    "\n",
    "# Calculate the p-value\n",
    "p_value = 2 * (1 - t.cdf(abs(t_statistic), df=degrees_of_freedom))\n",
    "\n",
    "print(f\"T-statistic: {t_statistic}\")\n",
    "print(f\"P-value: {p_value}\")\n",
    "\n",
    "# Interpretation\n",
    "alpha = 0.05  # Significance level\n",
    "if p_value < alpha:\n",
    "    print(\"The sample mean cost is significantly different from the expected cost based on the theoretical model.\")\n",
    "else:\n",
    "    print(\"There is no significant difference between the sample mean cost and the expected cost based on the theoretical model.\")\n"
   ]
  },
  {
   "cell_type": "code",
   "execution_count": 46,
   "metadata": {
    "id": "Kua_O51w7qLu"
   },
   "outputs": [],
   "source": [
    "#1. State the Hypotheses statement:\n",
    "\n",
    "# Null Hypothesis (H0): The sample mean cost is not significantly different from the expected cost based on the theoretical model.\n",
    "# Alternative Hypothesis (H1): The sample mean cost is significantly different from the expected cost based on the theoretical model.\n"
   ]
  },
  {
   "cell_type": "code",
   "execution_count": 47,
   "metadata": {
    "colab": {
     "base_uri": "https://localhost:8080/"
    },
    "id": "N5Dqte-17ydL",
    "outputId": "132b4e39-1152-4b34-dd06-615e7f894d2a"
   },
   "outputs": [
    {
     "name": "stdout",
     "output_type": "stream",
     "text": [
      "T-statistic: -38.0\n"
     ]
    }
   ],
   "source": [
    "# Use the following formula to calculate the test statistic (t):\n",
    "# where:\n",
    "# •\tˉxˉ = sample mean weekly cost (Rs. 3,050)\n",
    "# •\tμ = theoretical mean weekly cost according to the cost model (W = $1,000 + $5X for X = 600 units)\n",
    "# •\tσ = 5*25 units\n",
    "# •\tn = sample size (25 restaurants)\n",
    "\n",
    "import numpy as np\n",
    "\n",
    "# Given data\n",
    "sample_mean_cost = 3050\n",
    "population_mean_units = 600\n",
    "population_std_units = 5 * 25  # σ = 5 * 25 units\n",
    "sample_size = 25\n",
    "theoretical_cost_intercept = 1000\n",
    "theoretical_cost_slope = 5\n",
    "\n",
    "# Calculate the theoretical mean weekly cost\n",
    "expected_cost = theoretical_cost_intercept + theoretical_cost_slope * population_mean_units\n",
    "\n",
    "# Calculate the standard error of the mean\n",
    "standard_error = population_std_units / np.sqrt(sample_size)\n",
    "\n",
    "# Calculate the t-statistic\n",
    "t_statistic = (sample_mean_cost - expected_cost) / standard_error\n",
    "\n",
    "print(f\"T-statistic: {t_statistic}\")\n"
   ]
  },
  {
   "cell_type": "code",
   "execution_count": 48,
   "metadata": {
    "colab": {
     "base_uri": "https://localhost:8080/"
    },
    "id": "TBXk42OP78em",
    "outputId": "be8b13ee-c11a-48d9-8f8a-e1849e0606d9"
   },
   "outputs": [
    {
     "name": "stdout",
     "output_type": "stream",
     "text": [
      "Critical Value: 1.959963984540054\n"
     ]
    }
   ],
   "source": [
    "# 3. Determine the Critical Value:\n",
    "# Using the alpha level of 5% (α = 0.05), determine the critical value from the standard normal (Z) distribution table.\n",
    "\n",
    "from scipy.stats import norm\n",
    "\n",
    "alpha = 0.05\n",
    "critical_value = norm.ppf(1 - alpha / 2)  # Two-tailed test\n",
    "print(f\"Critical Value: {critical_value}\")\n"
   ]
  },
  {
   "cell_type": "code",
   "execution_count": 49,
   "metadata": {
    "colab": {
     "base_uri": "https://localhost:8080/"
    },
    "id": "n5EXIih18SAO",
    "outputId": "68dbaf22-d6fd-4a2a-9a1f-a5cdbe97b7b0"
   },
   "outputs": [
    {
     "name": "stdout",
     "output_type": "stream",
     "text": [
      "Reject the null hypothesis.\n",
      "The sample mean cost is significantly different from the expected cost based on the theoretical model.\n"
     ]
    }
   ],
   "source": [
    "\n",
    "# Compare the test statistic with the critical value to decide whether to reject the null hypothesis.\n",
    "\n",
    "if abs(t_statistic) > critical_value:\n",
    "    print(\"Reject the null hypothesis.\")\n",
    "    print(\"The sample mean cost is significantly different from the expected cost based on the theoretical model.\")\n",
    "else:\n",
    "    print(\"Fail to reject the null hypothesis.\")\n",
    "    print(\"There is no significant difference between the sample mean cost and the expected cost based on the theoretical model.\")\n"
   ]
  }
 ],
 "metadata": {
  "colab": {
   "provenance": []
  },
  "kernelspec": {
   "display_name": "Python 3 (ipykernel)",
   "language": "python",
   "name": "python3"
  },
  "language_info": {
   "codemirror_mode": {
    "name": "ipython",
    "version": 3
   },
   "file_extension": ".py",
   "mimetype": "text/x-python",
   "name": "python",
   "nbconvert_exporter": "python",
   "pygments_lexer": "ipython3",
   "version": "3.12.4"
  }
 },
 "nbformat": 4,
 "nbformat_minor": 4
}
